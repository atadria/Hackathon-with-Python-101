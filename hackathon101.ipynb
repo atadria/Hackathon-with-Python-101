{
 "cells": [
  {
   "attachments": {},
   "cell_type": "markdown",
   "id": "b8e5d5cf",
   "metadata": {
    "slideshow": {
     "slide_type": "slide"
    }
   },
   "source": [
    "<div style=\"text-align:right\"> Kraków 19.11.2022 </div>\n",
    "\n",
    "## Hackathon with Python 101\n",
    "\n",
    "![hackyeah](imgs/hackyeah.jpeg)\n",
    "<div style=\"text-align:right\"> Adrianna Tokarska </div>"
   ]
  },
  {
   "cell_type": "markdown",
   "id": "2606c0e6",
   "metadata": {
    "slideshow": {
     "slide_type": "slide"
    }
   },
   "source": [
    "![qrcode](imgs/qrcode.png)\n",
    "\n",
    "### https://github.com/atadria/Hackathon-with-Python-101"
   ]
  },
  {
   "cell_type": "markdown",
   "id": "7c13cdfb",
   "metadata": {
    "slideshow": {
     "slide_type": "slide"
    }
   },
   "source": [
    "## Agenda\n",
    "\n",
    "0. Teamwork #git\n",
    "1. Reading and cleaning data #pandas\n",
    "2. Simple ML models #scikit-learn\n",
    "3. Data visualization with dashboards #dash"
   ]
  },
  {
   "cell_type": "markdown",
   "id": "b86acb41",
   "metadata": {
    "slideshow": {
     "slide_type": "slide"
    }
   },
   "source": [
    "## Virtual environments:  \n",
    "Some info: https://realpython.com/python-virtual-environments-a-primer/  \n",
    "How to click in PyCharm: https://www.jetbrains.com/help/pycharm/creating-virtual-environment.html#env-requirements  \n",
    "Official documentation: https://docs.python.org/3/library/venv.html\n",
    "\n",
    "## Git \n",
    "Interactive course: https://learngitbranching.js.org/  \n",
    "How to click in PyCharm: https://www.jetbrains.com/help/pycharm/using-git-integration.html  \n",
    "GitHub get started: https://docs.github.com/en/get-started\n",
    "\n",
    "## install requirements\n",
    "\n",
    "`pip install -r requirements.txt`\n",
    "\n",
    "https://note.nkmk.me/en/python-pip-install-requirements/  "
   ]
  },
  {
   "cell_type": "markdown",
   "id": "f8aa7066",
   "metadata": {
    "slideshow": {
     "slide_type": "slide"
    }
   },
   "source": [
    "## Dataset \n",
    "[kaggle - Twitter Airline Sentiment](https://www.kaggle.com/datasets/crowdflower/twitter-airline-sentiment)\n",
    "\n",
    "### Some links \n",
    "Pandas Cheat Sheet: https://pandas.pydata.org/Pandas_Cheat_Sheet.pdf\n",
    "\n",
    "Kaggle Pandas Course : https://www.kaggle.com/learn/pandas"
   ]
  },
  {
   "cell_type": "code",
   "execution_count": 1,
   "id": "52d12239",
   "metadata": {
    "slideshow": {
     "slide_type": "fragment"
    }
   },
   "outputs": [
    {
     "data": {
      "text/html": [
       "<div>\n",
       "<style scoped>\n",
       "    .dataframe tbody tr th:only-of-type {\n",
       "        vertical-align: middle;\n",
       "    }\n",
       "\n",
       "    .dataframe tbody tr th {\n",
       "        vertical-align: top;\n",
       "    }\n",
       "\n",
       "    .dataframe thead th {\n",
       "        text-align: right;\n",
       "    }\n",
       "</style>\n",
       "<table border=\"1\" class=\"dataframe\">\n",
       "  <thead>\n",
       "    <tr style=\"text-align: right;\">\n",
       "      <th></th>\n",
       "      <th>tweet_id</th>\n",
       "      <th>airline_sentiment</th>\n",
       "      <th>airline_sentiment_confidence</th>\n",
       "      <th>negativereason</th>\n",
       "      <th>negativereason_confidence</th>\n",
       "      <th>airline</th>\n",
       "      <th>airline_sentiment_gold</th>\n",
       "      <th>name</th>\n",
       "      <th>negativereason_gold</th>\n",
       "      <th>retweet_count</th>\n",
       "      <th>text</th>\n",
       "      <th>tweet_coord</th>\n",
       "      <th>tweet_created</th>\n",
       "      <th>tweet_location</th>\n",
       "      <th>user_timezone</th>\n",
       "    </tr>\n",
       "  </thead>\n",
       "  <tbody>\n",
       "    <tr>\n",
       "      <th>14334</th>\n",
       "      <td>569631824101683200</td>\n",
       "      <td>negative</td>\n",
       "      <td>1.0000</td>\n",
       "      <td>Flight Booking Problems</td>\n",
       "      <td>0.6612</td>\n",
       "      <td>American</td>\n",
       "      <td>NaN</td>\n",
       "      <td>m0nica</td>\n",
       "      <td>NaN</td>\n",
       "      <td>0</td>\n",
       "      <td>@AmericanAir Where are your tickets offices in...</td>\n",
       "      <td>NaN</td>\n",
       "      <td>2015-02-22 14:56:24 -0800</td>\n",
       "      <td>Cambridge, MA</td>\n",
       "      <td>Mid-Atlantic</td>\n",
       "    </tr>\n",
       "    <tr>\n",
       "      <th>6065</th>\n",
       "      <td>568377318822912000</td>\n",
       "      <td>negative</td>\n",
       "      <td>1.0000</td>\n",
       "      <td>Can't Tell</td>\n",
       "      <td>0.6306</td>\n",
       "      <td>Southwest</td>\n",
       "      <td>NaN</td>\n",
       "      <td>DavidBLove</td>\n",
       "      <td>NaN</td>\n",
       "      <td>0</td>\n",
       "      <td>@SouthwestAir hates guitar players. Chgd for o...</td>\n",
       "      <td>NaN</td>\n",
       "      <td>2015-02-19 03:51:27 -0800</td>\n",
       "      <td>Canada</td>\n",
       "      <td>Eastern Time (US &amp; Canada)</td>\n",
       "    </tr>\n",
       "    <tr>\n",
       "      <th>1724</th>\n",
       "      <td>569616424995409921</td>\n",
       "      <td>negative</td>\n",
       "      <td>1.0000</td>\n",
       "      <td>Lost Luggage</td>\n",
       "      <td>1.0000</td>\n",
       "      <td>United</td>\n",
       "      <td>NaN</td>\n",
       "      <td>KHSailing</td>\n",
       "      <td>NaN</td>\n",
       "      <td>1</td>\n",
       "      <td>@united on line baggage system complete rubbis...</td>\n",
       "      <td>NaN</td>\n",
       "      <td>2015-02-22 13:55:13 -0800</td>\n",
       "      <td>Solent - Hamble, Lymington</td>\n",
       "      <td>London</td>\n",
       "    </tr>\n",
       "    <tr>\n",
       "      <th>6369</th>\n",
       "      <td>567919829589442560</td>\n",
       "      <td>neutral</td>\n",
       "      <td>0.6805</td>\n",
       "      <td>NaN</td>\n",
       "      <td>0.0000</td>\n",
       "      <td>Southwest</td>\n",
       "      <td>NaN</td>\n",
       "      <td>MikeLeners</td>\n",
       "      <td>NaN</td>\n",
       "      <td>0</td>\n",
       "      <td>@SouthwestAir my bag was Late Flight-checked a...</td>\n",
       "      <td>NaN</td>\n",
       "      <td>2015-02-17 21:33:33 -0800</td>\n",
       "      <td>Oakland, CA</td>\n",
       "      <td>Central Time (US &amp; Canada)</td>\n",
       "    </tr>\n",
       "    <tr>\n",
       "      <th>130</th>\n",
       "      <td>569642845516275712</td>\n",
       "      <td>negative</td>\n",
       "      <td>1.0000</td>\n",
       "      <td>Customer Service Issue</td>\n",
       "      <td>0.6448</td>\n",
       "      <td>Virgin America</td>\n",
       "      <td>NaN</td>\n",
       "      <td>melokudo</td>\n",
       "      <td>NaN</td>\n",
       "      <td>0</td>\n",
       "      <td>@VirginAmerica you are failing your customers ...</td>\n",
       "      <td>NaN</td>\n",
       "      <td>2015-02-22 15:40:12 -0800</td>\n",
       "      <td>NaN</td>\n",
       "      <td>Eastern Time (US &amp; Canada)</td>\n",
       "    </tr>\n",
       "  </tbody>\n",
       "</table>\n",
       "</div>"
      ],
      "text/plain": [
       "                 tweet_id airline_sentiment  airline_sentiment_confidence  \\\n",
       "14334  569631824101683200          negative                        1.0000   \n",
       "6065   568377318822912000          negative                        1.0000   \n",
       "1724   569616424995409921          negative                        1.0000   \n",
       "6369   567919829589442560           neutral                        0.6805   \n",
       "130    569642845516275712          negative                        1.0000   \n",
       "\n",
       "                negativereason  negativereason_confidence         airline  \\\n",
       "14334  Flight Booking Problems                     0.6612        American   \n",
       "6065                Can't Tell                     0.6306       Southwest   \n",
       "1724              Lost Luggage                     1.0000          United   \n",
       "6369                       NaN                     0.0000       Southwest   \n",
       "130     Customer Service Issue                     0.6448  Virgin America   \n",
       "\n",
       "      airline_sentiment_gold        name negativereason_gold  retweet_count  \\\n",
       "14334                    NaN      m0nica                 NaN              0   \n",
       "6065                     NaN  DavidBLove                 NaN              0   \n",
       "1724                     NaN   KHSailing                 NaN              1   \n",
       "6369                     NaN  MikeLeners                 NaN              0   \n",
       "130                      NaN    melokudo                 NaN              0   \n",
       "\n",
       "                                                    text tweet_coord  \\\n",
       "14334  @AmericanAir Where are your tickets offices in...         NaN   \n",
       "6065   @SouthwestAir hates guitar players. Chgd for o...         NaN   \n",
       "1724   @united on line baggage system complete rubbis...         NaN   \n",
       "6369   @SouthwestAir my bag was Late Flight-checked a...         NaN   \n",
       "130    @VirginAmerica you are failing your customers ...         NaN   \n",
       "\n",
       "                   tweet_created              tweet_location  \\\n",
       "14334  2015-02-22 14:56:24 -0800               Cambridge, MA   \n",
       "6065   2015-02-19 03:51:27 -0800                      Canada   \n",
       "1724   2015-02-22 13:55:13 -0800  Solent - Hamble, Lymington   \n",
       "6369   2015-02-17 21:33:33 -0800                 Oakland, CA   \n",
       "130    2015-02-22 15:40:12 -0800                         NaN   \n",
       "\n",
       "                    user_timezone  \n",
       "14334                Mid-Atlantic  \n",
       "6065   Eastern Time (US & Canada)  \n",
       "1724                       London  \n",
       "6369   Central Time (US & Canada)  \n",
       "130    Eastern Time (US & Canada)  "
      ]
     },
     "execution_count": 1,
     "metadata": {},
     "output_type": "execute_result"
    }
   ],
   "source": [
    "import pandas as pd\n",
    "\n",
    "# Load Data\n",
    "# more about read_csv - check out sep parameter: \n",
    "# https://pandas.pydata.org/docs/reference/api/pandas.read_csv.html\n",
    "df = pd.read_csv('Tweets.csv')\n",
    "df.sample(5)"
   ]
  },
  {
   "cell_type": "code",
   "execution_count": 2,
   "id": "3758840b",
   "metadata": {
    "slideshow": {
     "slide_type": "slide"
    }
   },
   "outputs": [
    {
     "name": "stdout",
     "output_type": "stream",
     "text": [
      "<class 'pandas.core.frame.DataFrame'>\n",
      "RangeIndex: 14640 entries, 0 to 14639\n",
      "Data columns (total 15 columns):\n",
      " #   Column                        Non-Null Count  Dtype  \n",
      "---  ------                        --------------  -----  \n",
      " 0   tweet_id                      14640 non-null  int64  \n",
      " 1   airline_sentiment             14640 non-null  object \n",
      " 2   airline_sentiment_confidence  14640 non-null  float64\n",
      " 3   negativereason                9178 non-null   object \n",
      " 4   negativereason_confidence     10522 non-null  float64\n",
      " 5   airline                       14640 non-null  object \n",
      " 6   airline_sentiment_gold        40 non-null     object \n",
      " 7   name                          14640 non-null  object \n",
      " 8   negativereason_gold           32 non-null     object \n",
      " 9   retweet_count                 14640 non-null  int64  \n",
      " 10  text                          14640 non-null  object \n",
      " 11  tweet_coord                   1019 non-null   object \n",
      " 12  tweet_created                 14640 non-null  object \n",
      " 13  tweet_location                9907 non-null   object \n",
      " 14  user_timezone                 9820 non-null   object \n",
      "dtypes: float64(2), int64(2), object(11)\n",
      "memory usage: 1.7+ MB\n"
     ]
    }
   ],
   "source": [
    "df.info()"
   ]
  },
  {
   "cell_type": "markdown",
   "id": "aeaa0a35",
   "metadata": {
    "slideshow": {
     "slide_type": "slide"
    }
   },
   "source": [
    "## Data sampling \n",
    "We will limit data - only to speed-up model training\n",
    "\n",
    "You can chceck [how to deal with imbalanced data](https://machinelearningmastery.com/random-oversampling-and-undersampling-for-imbalanced-classification/)."
   ]
  },
  {
   "cell_type": "code",
   "execution_count": 3,
   "id": "3da8d30c",
   "metadata": {
    "slideshow": {
     "slide_type": "fragment"
    }
   },
   "outputs": [
    {
     "data": {
      "text/plain": [
       "negative    6283\n",
       "neutral     2106\n",
       "positive    1611\n",
       "Name: airline_sentiment, dtype: int64"
      ]
     },
     "execution_count": 3,
     "metadata": {},
     "output_type": "execute_result"
    }
   ],
   "source": [
    "df = df.sample(10000, random_state=123)\n",
    "df['airline_sentiment'].value_counts()"
   ]
  },
  {
   "cell_type": "code",
   "execution_count": 4,
   "id": "9634e110",
   "metadata": {
    "slideshow": {
     "slide_type": "fragment"
    }
   },
   "outputs": [],
   "source": [
    "from sklearn.model_selection import train_test_split\n",
    "\n",
    "X = df['text']\n",
    "y = df['airline_sentiment']\n",
    "\n",
    "X_train, X_test, y_train, y_test = train_test_split(X, y, \n",
    "                                                    test_size=0.3, \n",
    "                                                    random_state=123)"
   ]
  },
  {
   "cell_type": "markdown",
   "id": "23adc2db",
   "metadata": {
    "slideshow": {
     "slide_type": "slide"
    }
   },
   "source": [
    "## Prepare data\n",
    "### Tokenize and remove stop words\n"
   ]
  },
  {
   "cell_type": "code",
   "execution_count": 5,
   "id": "8cbd9e5d",
   "metadata": {
    "collapsed": true,
    "slideshow": {
     "slide_type": "fragment"
    }
   },
   "outputs": [
    {
     "name": "stderr",
     "output_type": "stream",
     "text": [
      "[nltk_data] Downloading package stopwords to /Users/adri/nltk_data...\n",
      "[nltk_data]   Package stopwords is already up-to-date!\n"
     ]
    },
    {
     "data": {
      "text/plain": [
       "True"
      ]
     },
     "execution_count": 5,
     "metadata": {},
     "output_type": "execute_result"
    }
   ],
   "source": [
    "import string\n",
    "\n",
    "import nltk\n",
    "from nltk.tokenize import TweetTokenizer\n",
    "from nltk.corpus import stopwords\n",
    "\n",
    "nltk.download('stopwords')"
   ]
  },
  {
   "cell_type": "code",
   "execution_count": 6,
   "id": "96cc5253",
   "metadata": {
    "slideshow": {
     "slide_type": "fragment"
    }
   },
   "outputs": [],
   "source": [
    "tweet_tokenizer = TweetTokenizer()\n",
    "stop_words = set(stopwords.words('english') + list(string.punctuation))\n",
    "\n",
    "def tokenize(text):\n",
    "    # skip stop words and punctuation\n",
    "    return [x.lower() for x in tweet_tokenizer.tokenize(text) \n",
    "                if x.lower() not in stop_words]"
   ]
  },
  {
   "cell_type": "markdown",
   "id": "5cc2b52c",
   "metadata": {
    "slideshow": {
     "slide_type": "slide"
    }
   },
   "source": [
    "## Text to vector \n",
    "We will use [TF-IDF (term frequency-inverse document frequency)](https://monkeylearn.com/blog/what-is-tf-idf/).\n",
    "\n",
    "https://scikit-learn.org/stable/modules/generated/sklearn.feature_extraction.text.TfidfVectorizer.html"
   ]
  },
  {
   "cell_type": "code",
   "execution_count": 7,
   "id": "ed89832d",
   "metadata": {
    "slideshow": {
     "slide_type": "fragment"
    }
   },
   "outputs": [
    {
     "data": {
      "text/plain": [
       "(7000, 3000)"
      ]
     },
     "execution_count": 7,
     "metadata": {},
     "output_type": "execute_result"
    }
   ],
   "source": [
    "from sklearn.feature_extraction.text import TfidfVectorizer\n",
    "\n",
    "# create vectorizer\n",
    "vectorizer = TfidfVectorizer(tokenizer=tokenize,\n",
    "                             lowercase=True, \n",
    "                             max_features=3000)\n",
    "\n",
    "# fit_transform = fit + transform \n",
    "X_train = vectorizer.fit_transform(X_train)\n",
    "# transform \n",
    "X_test = vectorizer.transform(X_test)\n",
    "\n",
    "X_train.shape"
   ]
  },
  {
   "cell_type": "markdown",
   "id": "f641634a",
   "metadata": {
    "slideshow": {
     "slide_type": "slide"
    }
   },
   "source": [
    "## Clasifier\n",
    "\n",
    "We will use SVM - but feel feree to experiment with other classifiers :) \n",
    "\n",
    "https://scikit-learn.org/stable/modules/generated/sklearn.svm.SVC.html"
   ]
  },
  {
   "cell_type": "code",
   "execution_count": 8,
   "id": "2c3c7a44",
   "metadata": {
    "slideshow": {
     "slide_type": "fragment"
    }
   },
   "outputs": [
    {
     "data": {
      "text/html": [
       "<style>#sk-container-id-1 {color: black;background-color: white;}#sk-container-id-1 pre{padding: 0;}#sk-container-id-1 div.sk-toggleable {background-color: white;}#sk-container-id-1 label.sk-toggleable__label {cursor: pointer;display: block;width: 100%;margin-bottom: 0;padding: 0.3em;box-sizing: border-box;text-align: center;}#sk-container-id-1 label.sk-toggleable__label-arrow:before {content: \"▸\";float: left;margin-right: 0.25em;color: #696969;}#sk-container-id-1 label.sk-toggleable__label-arrow:hover:before {color: black;}#sk-container-id-1 div.sk-estimator:hover label.sk-toggleable__label-arrow:before {color: black;}#sk-container-id-1 div.sk-toggleable__content {max-height: 0;max-width: 0;overflow: hidden;text-align: left;background-color: #f0f8ff;}#sk-container-id-1 div.sk-toggleable__content pre {margin: 0.2em;color: black;border-radius: 0.25em;background-color: #f0f8ff;}#sk-container-id-1 input.sk-toggleable__control:checked~div.sk-toggleable__content {max-height: 200px;max-width: 100%;overflow: auto;}#sk-container-id-1 input.sk-toggleable__control:checked~label.sk-toggleable__label-arrow:before {content: \"▾\";}#sk-container-id-1 div.sk-estimator input.sk-toggleable__control:checked~label.sk-toggleable__label {background-color: #d4ebff;}#sk-container-id-1 div.sk-label input.sk-toggleable__control:checked~label.sk-toggleable__label {background-color: #d4ebff;}#sk-container-id-1 input.sk-hidden--visually {border: 0;clip: rect(1px 1px 1px 1px);clip: rect(1px, 1px, 1px, 1px);height: 1px;margin: -1px;overflow: hidden;padding: 0;position: absolute;width: 1px;}#sk-container-id-1 div.sk-estimator {font-family: monospace;background-color: #f0f8ff;border: 1px dotted black;border-radius: 0.25em;box-sizing: border-box;margin-bottom: 0.5em;}#sk-container-id-1 div.sk-estimator:hover {background-color: #d4ebff;}#sk-container-id-1 div.sk-parallel-item::after {content: \"\";width: 100%;border-bottom: 1px solid gray;flex-grow: 1;}#sk-container-id-1 div.sk-label:hover label.sk-toggleable__label {background-color: #d4ebff;}#sk-container-id-1 div.sk-serial::before {content: \"\";position: absolute;border-left: 1px solid gray;box-sizing: border-box;top: 0;bottom: 0;left: 50%;z-index: 0;}#sk-container-id-1 div.sk-serial {display: flex;flex-direction: column;align-items: center;background-color: white;padding-right: 0.2em;padding-left: 0.2em;position: relative;}#sk-container-id-1 div.sk-item {position: relative;z-index: 1;}#sk-container-id-1 div.sk-parallel {display: flex;align-items: stretch;justify-content: center;background-color: white;position: relative;}#sk-container-id-1 div.sk-item::before, #sk-container-id-1 div.sk-parallel-item::before {content: \"\";position: absolute;border-left: 1px solid gray;box-sizing: border-box;top: 0;bottom: 0;left: 50%;z-index: -1;}#sk-container-id-1 div.sk-parallel-item {display: flex;flex-direction: column;z-index: 1;position: relative;background-color: white;}#sk-container-id-1 div.sk-parallel-item:first-child::after {align-self: flex-end;width: 50%;}#sk-container-id-1 div.sk-parallel-item:last-child::after {align-self: flex-start;width: 50%;}#sk-container-id-1 div.sk-parallel-item:only-child::after {width: 0;}#sk-container-id-1 div.sk-dashed-wrapped {border: 1px dashed gray;margin: 0 0.4em 0.5em 0.4em;box-sizing: border-box;padding-bottom: 0.4em;background-color: white;}#sk-container-id-1 div.sk-label label {font-family: monospace;font-weight: bold;display: inline-block;line-height: 1.2em;}#sk-container-id-1 div.sk-label-container {text-align: center;}#sk-container-id-1 div.sk-container {/* jupyter's `normalize.less` sets `[hidden] { display: none; }` but bootstrap.min.css set `[hidden] { display: none !important; }` so we also need the `!important` here to be able to override the default hidden behavior on the sphinx rendered scikit-learn.org. See: https://github.com/scikit-learn/scikit-learn/issues/21755 */display: inline-block !important;position: relative;}#sk-container-id-1 div.sk-text-repr-fallback {display: none;}</style><div id=\"sk-container-id-1\" class=\"sk-top-container\"><div class=\"sk-text-repr-fallback\"><pre>SVC(probability=True)</pre><b>In a Jupyter environment, please rerun this cell to show the HTML representation or trust the notebook. <br />On GitHub, the HTML representation is unable to render, please try loading this page with nbviewer.org.</b></div><div class=\"sk-container\" hidden><div class=\"sk-item\"><div class=\"sk-estimator sk-toggleable\"><input class=\"sk-toggleable__control sk-hidden--visually\" id=\"sk-estimator-id-1\" type=\"checkbox\" checked><label for=\"sk-estimator-id-1\" class=\"sk-toggleable__label sk-toggleable__label-arrow\">SVC</label><div class=\"sk-toggleable__content\"><pre>SVC(probability=True)</pre></div></div></div></div></div>"
      ],
      "text/plain": [
       "SVC(probability=True)"
      ]
     },
     "execution_count": 8,
     "metadata": {},
     "output_type": "execute_result"
    }
   ],
   "source": [
    "from sklearn.svm import SVC\n",
    "\n",
    "classifier = SVC(probability=True)\n",
    "\n",
    "# fit - training :) \n",
    "classifier.fit(X_train, y_train)"
   ]
  },
  {
   "cell_type": "markdown",
   "id": "ee0b015e",
   "metadata": {
    "slideshow": {
     "slide_type": "slide"
    }
   },
   "source": [
    "## Model evaluation\n",
    "Return the mean accuracy on the given test data and labels.\n",
    "\n",
    "Check out other metrics:  \n",
    "https://scikit-learn.org/stable/modules/model_evaluation.html#classification-metrics"
   ]
  },
  {
   "cell_type": "code",
   "execution_count": 9,
   "id": "e174fbdd",
   "metadata": {
    "slideshow": {
     "slide_type": "fragment"
    }
   },
   "outputs": [
    {
     "data": {
      "text/plain": [
       "0.9505714285714286"
      ]
     },
     "execution_count": 9,
     "metadata": {},
     "output_type": "execute_result"
    }
   ],
   "source": [
    "# on training data\n",
    "classifier.score(X_train, y_train)"
   ]
  },
  {
   "cell_type": "code",
   "execution_count": 10,
   "id": "2c2e7433",
   "metadata": {
    "slideshow": {
     "slide_type": "fragment"
    }
   },
   "outputs": [
    {
     "data": {
      "text/plain": [
       "0.7726666666666666"
      ]
     },
     "execution_count": 10,
     "metadata": {},
     "output_type": "execute_result"
    }
   ],
   "source": [
    "# on test data\n",
    "classifier.score(X_test, y_test)"
   ]
  },
  {
   "cell_type": "markdown",
   "id": "79174cf2",
   "metadata": {
    "slideshow": {
     "slide_type": "slide"
    }
   },
   "source": [
    "### Confusion matrix"
   ]
  },
  {
   "cell_type": "code",
   "execution_count": 11,
   "id": "a0d28a1f",
   "metadata": {
    "slideshow": {
     "slide_type": "fragment"
    }
   },
   "outputs": [
    {
     "data": {
      "text/plain": [
       "<sklearn.metrics._plot.confusion_matrix.ConfusionMatrixDisplay at 0x11b907a30>"
      ]
     },
     "execution_count": 11,
     "metadata": {},
     "output_type": "execute_result"
    },
    {
     "data": {
      "image/png": "[encoded data removed]",
      "text/plain": [
       "<Figure size 640x480 with 2 Axes>"
      ]
     },
     "metadata": {},
     "output_type": "display_data"
    }
   ],
   "source": [
    "from sklearn.metrics import confusion_matrix, ConfusionMatrixDisplay\n",
    "\n",
    "cm = confusion_matrix(y_test, classifier.predict(X_test))\n",
    "ConfusionMatrixDisplay(cm, display_labels=classifier.classes_).plot()"
   ]
  },
  {
   "cell_type": "markdown",
   "id": "7667184f",
   "metadata": {
    "slideshow": {
     "slide_type": "slide"
    }
   },
   "source": [
    "## Save and load model \n",
    "https://scikit-learn.org/stable/model_persistence.html"
   ]
  },
  {
   "cell_type": "code",
   "execution_count": 12,
   "id": "ee5f02a5",
   "metadata": {
    "slideshow": {
     "slide_type": "fragment"
    }
   },
   "outputs": [],
   "source": [
    "from joblib import dump, load\n",
    "\n",
    "\n",
    "# save to file\n",
    "dump(classifier, 'classifier.joblib')\n",
    "     \n",
    "# load from file\n",
    "clf = load('classifier.joblib')"
   ]
  },
  {
   "cell_type": "code",
   "execution_count": 13,
   "id": "4f5bab86",
   "metadata": {
    "slideshow": {
     "slide_type": "skip"
    }
   },
   "outputs": [
    {
     "data": {
      "text/plain": [
       "array([[ True,  True,  True],\n",
       "       [ True,  True,  True],\n",
       "       [ True,  True,  True],\n",
       "       ...,\n",
       "       [ True,  True,  True],\n",
       "       [ True,  True,  True],\n",
       "       [ True,  True,  True]])"
      ]
     },
     "execution_count": 13,
     "metadata": {},
     "output_type": "execute_result"
    }
   ],
   "source": [
    "# check predictions for original and saved model \n",
    "classifier.predict_proba(X_test) == clf.predict_proba(X_test)"
   ]
  },
  {
   "cell_type": "markdown",
   "id": "7e2a4e0f",
   "metadata": {
    "slideshow": {
     "slide_type": "slide"
    }
   },
   "source": [
    "## Dash\n",
    "https://dash.plotly.com/  \n",
    "\n",
    "Dash apps from Jupyter environments:   \n",
    "https://medium.com/plotly/introducing-jupyterdash-811f1f57c02e\n",
    "\n",
    "\n",
    "### Some inspirations:\n",
    "Dash gallery:  \n",
    "https://dash.gallery/Portal/  \n",
    "Graph gallery:  \n",
    "https://www.python-graph-gallery.com/"
   ]
  },
  {
   "cell_type": "markdown",
   "id": "fc8366b0",
   "metadata": {
    "slideshow": {
     "slide_type": "slide"
    }
   },
   "source": [
    "## Data preparation \n",
    "\n",
    "We will create 2 visualizations:  \n",
    "1) number of tweets by day   \n",
    "2) word cloud  \n",
    "Data used in visualizations will be filtered by sentiment"
   ]
  },
  {
   "cell_type": "code",
   "execution_count": 14,
   "id": "d430c740",
   "metadata": {
    "slideshow": {
     "slide_type": "fragment"
    }
   },
   "outputs": [],
   "source": [
    "from collections import Counter\n",
    "\n",
    "# add tokenized column to df\n",
    "df['tokenized'] = df['text'].apply(lambda x: tokenize(x))\n",
    "\n",
    "# add date column \n",
    "df['date'] = pd.DatetimeIndex(df['tweet_created']).date\n",
    "\n",
    "def word_counter(data):\n",
    "    cnt = Counter()\n",
    "    for tokenized in data:\n",
    "        cnt += Counter(tokenized)\n",
    "    return cnt"
   ]
  },
  {
   "cell_type": "markdown",
   "id": "fef779ce",
   "metadata": {
    "slideshow": {
     "slide_type": "slide"
    }
   },
   "source": [
    "## Data filtering"
   ]
  },
  {
   "cell_type": "code",
   "execution_count": 15,
   "id": "488fd8fd",
   "metadata": {
    "slideshow": {
     "slide_type": "fragment"
    }
   },
   "outputs": [],
   "source": [
    "# options for our dropdown menu \n",
    "sentiments = ['all'] + list(df['airline_sentiment'].unique()) \n",
    "\n",
    "def fillter_by_sentiment(data, sentiment):\n",
    "    if sentiment == 'all':\n",
    "        return data\n",
    "    return data[data['airline_sentiment'] == sentiment]"
   ]
  },
  {
   "cell_type": "markdown",
   "id": "4db893a6",
   "metadata": {
    "slideshow": {
     "slide_type": "slide"
    }
   },
   "source": [
    "## Dashboard app "
   ]
  },
  {
   "cell_type": "code",
   "execution_count": 16,
   "id": "56d90a96",
   "metadata": {
    "slideshow": {
     "slide_type": "fragment"
    }
   },
   "outputs": [],
   "source": [
    "from jupyter_dash import JupyterDash\n",
    "from dash import dcc\n",
    "from dash import html\n",
    "from dash.dependencies import Input, Output\n",
    "import plotly.express as px\n",
    "\n",
    "# if building Dash app in script app.py use dash instead of jupyter_dash\n",
    "# app = dash.Dash(__name__)\n",
    "\n",
    "# Dash app build in notebook: \n",
    "app = JupyterDash(__name__)"
   ]
  },
  {
   "cell_type": "markdown",
   "id": "56f58fb7",
   "metadata": {
    "slideshow": {
     "slide_type": "slide"
    }
   },
   "source": [
    "## App layout\n",
    "Some basic HTML knowledge would be nice:  \n",
    "https://www.w3schools.com/html/html_intro.asp"
   ]
  },
  {
   "cell_type": "code",
   "execution_count": 17,
   "id": "020881e1",
   "metadata": {
    "slideshow": {
     "slide_type": "fragment"
    }
   },
   "outputs": [],
   "source": [
    "app.layout = html.Div([\n",
    "    html.H1(\"Sentiment Analysis Dashboard\"), \n",
    "    html.Label([\n",
    "        \"Sentiment type\",\n",
    "        dcc.Dropdown(\n",
    "            id='sentiments', clearable=False,\n",
    "            value='all', options=[\n",
    "                {'label': x, 'value': x}\n",
    "                for x in sentiments\n",
    "            ])\n",
    "    ]),\n",
    "    html.Div(children=[\n",
    "        dcc.Graph(id=\"graph\", style={'display': 'inline-block'}),\n",
    "        html.Img(id=\"wordcloud\", style={'display': 'inline-block'})\n",
    "    ])\n",
    "])"
   ]
  },
  {
   "cell_type": "markdown",
   "id": "acf23d9b",
   "metadata": {
    "slideshow": {
     "slide_type": "slide"
    }
   },
   "source": [
    "### Callbacks\n",
    "call it by id :)  \n",
    "What and when should change"
   ]
  },
  {
   "cell_type": "code",
   "execution_count": 18,
   "id": "c090437a",
   "metadata": {
    "slideshow": {
     "slide_type": "fragment"
    }
   },
   "outputs": [],
   "source": [
    "# Define callback to update graph\n",
    "@app.callback(\n",
    "    Output('graph', 'figure'),\n",
    "    [Input('sentiments', 'value')]\n",
    ")\n",
    "def update_figure(sentiment):\n",
    "    filltered_df = fillter_by_sentiment(df, sentiment)\n",
    "    # https://plotly.com/python/histograms/\n",
    "    return px.histogram(\n",
    "        filltered_df, x=\"date\", color=\"airline_sentiment\"\n",
    "    )"
   ]
  },
  {
   "cell_type": "code",
   "execution_count": 19,
   "id": "5a89a3e0",
   "metadata": {
    "slideshow": {
     "slide_type": "slide"
    }
   },
   "outputs": [],
   "source": [
    "import base64\n",
    "from io import BytesIO\n",
    "\n",
    "from wordcloud import WordCloud\n",
    "\n",
    "# callback to update word cloud\n",
    "@app.callback(\n",
    "    Output('wordcloud', 'src'),\n",
    "    [Input('sentiments', 'value')]\n",
    ")\n",
    "def update_wordcloud(sentiment):\n",
    "    filltered_df = fillter_by_sentiment(df, sentiment)\n",
    "    img = BytesIO()\n",
    "    wc = WordCloud(background_color='white', width=480, height=360)\n",
    "    wc.generate_from_frequencies(word_counter(filltered_df['tokenized']))\n",
    "    wc.to_image().save(img, format='PNG')\n",
    "    return 'data:image/png;base64,{}'.format(base64.b64encode(img.getvalue()).decode())"
   ]
  },
  {
   "cell_type": "markdown",
   "id": "22aa9b2c",
   "metadata": {
    "slideshow": {
     "slide_type": "slide"
    }
   },
   "source": [
    "## Run app"
   ]
  },
  {
   "cell_type": "code",
   "execution_count": 20,
   "id": "7c7048a9",
   "metadata": {
    "slideshow": {
     "slide_type": "fragment"
    }
   },
   "outputs": [
    {
     "name": "stdout",
     "output_type": "stream",
     "text": [
      "Dash app running on http://127.0.0.1:8050/\n"
     ]
    }
   ],
   "source": [
    "# Run app and display result inline in the notebook\n",
    "# app.run_server(mode='inline')\n",
    "\n",
    "# Run app in new window \n",
    "app.run_server(mode='external')"
   ]
  },
  {
   "attachments": {},
   "cell_type": "markdown",
   "id": "a17d5b8d",
   "metadata": {
    "slideshow": {
     "slide_type": "slide"
    }
   },
   "source": [
    "![dashboard](imgs/app.png)"
   ]
  }
 ],
 "metadata": {
  "celltoolbar": "Slideshow",
  "kernelspec": {
   "display_name": "Python 3 (ipykernel)",
   "language": "python",
   "name": "python3"
  },
  "language_info": {
   "codemirror_mode": {
    "name": "ipython",
    "version": 3
   },
   "file_extension": ".py",
   "mimetype": "text/x-python",
   "name": "python",
   "nbconvert_exporter": "python",
   "pygments_lexer": "ipython3",
   "version": "3.9.6"
  }
 },
 "nbformat": 4,
 "nbformat_minor": 5
}
